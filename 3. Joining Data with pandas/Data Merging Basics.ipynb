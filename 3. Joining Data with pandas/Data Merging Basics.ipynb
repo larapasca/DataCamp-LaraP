{
 "cells": [
  {
   "cell_type": "markdown",
   "metadata": {},
   "source": [
    "# Inner Join"
   ]
  },
  {
   "cell_type": "markdown",
   "metadata": {},
   "source": [
    "Chicago provides a list of taxicab owners and vehicles licensed to operate within the city, for public safety. Your goal is to merge two tables together. One table is called taxi_owners, with info about the taxi cab company owners, and one is called taxi_veh, with info about each taxi cab vehicle. Both the taxi_owners and taxi_veh tables have been loaded for you and you can explore them in the IPython shell."
   ]
  },
  {
   "cell_type": "code",
   "execution_count": null,
   "metadata": {},
   "outputs": [],
   "source": [
    "print(taxi_owners.head())\n",
    "\"\"\"\n",
    "     rid   vid           owner                 address    zip\n",
    "0  T6285  6285  AGEAN TAXI LLC     4536 N. ELSTON AVE.  60630\n",
    "1  T4862  4862    MANGIB CORP.  5717 N. WASHTENAW AVE.  60659\n",
    "2  T1495  1495   FUNRIDE, INC.     3351 W. ADDISON ST.  60618\n",
    "3  T4231  4231    ALQUSH CORP.   6611 N. CAMPBELL AVE.  60645\n",
    "4  T5971  5971  EUNIFFORD INC.     3351 W. ADDISON ST.  60618\"\"\"\n",
    "\n",
    "print(taxi_veh.head())\n",
    "\"\"\"\n",
    "    vid    make   model  year fuel_type                owner\n",
    "0  2767  TOYOTA   CAMRY  2013    HYBRID       SEYED M. BADRI\n",
    "1  1411  TOYOTA    RAV4  2017    HYBRID          DESZY CORP.\n",
    "2  6500  NISSAN  SENTRA  2019  GASOLINE       AGAPH CAB CORP\n",
    "3  2746  TOYOTA   CAMRY  2013    HYBRID  MIDWEST CAB CO, INC\n",
    "4  5922  TOYOTA   CAMRY  2013    HYBRID       SUMETTI CAB CO\"\"\""
   ]
  },
  {
   "cell_type": "markdown",
   "metadata": {},
   "source": [
    "You have been tasked with figuring out what the most popular types of fuel used in Chicago taxis are. To complete the analysis, you need to merge the taxi_owners and taxi_veh tables together on the vid column. You can then use the merged table along with the .value_counts() method to find the most common fuel_type."
   ]
  },
  {
   "cell_type": "markdown",
   "metadata": {},
   "source": [
    "# Merge the taxi_owners and taxi_veh tables\n",
    "Merge taxi_owners with taxi_veh on the column vid, and save the result to taxi_own_veh\n",
    "\n",
    "    taxi_own_veh = taxi_owners.merge(taxi_veh, on='vid')\n",
    "\n",
    "Set the left and right table suffixes for overlapping columns of the merge to _own and _veh, respectively.\n",
    "\n",
    "    taxi_own_veh = taxi_owners.merge(taxi_veh, on='vid', suffixes=(\"_own\",\"_veh\"))\n",
    "\n",
    "Select the fuel_type column from taxi_own_veh and print the value_counts() to find the most popular fuel_types used.\n",
    "\n",
    "    print(taxi_own_veh['fuel_type'].value_counts())"
   ]
  }
 ],
 "metadata": {
  "language_info": {
   "name": "python"
  }
 },
 "nbformat": 4,
 "nbformat_minor": 2
}
